{
 "cells": [
  {
   "cell_type": "markdown",
   "id": "2deb2e5d",
   "metadata": {},
   "source": [
    "# Project 3D Modeling and Image Based Rendering"
   ]
  },
  {
   "cell_type": "markdown",
   "id": "3d3059bb",
   "metadata": {},
   "source": [
    "## 0 Setup"
   ]
  },
  {
   "cell_type": "code",
   "execution_count": 1,
   "id": "d78e066f",
   "metadata": {},
   "outputs": [],
   "source": [
    "%load_ext autoreload\n",
    "%autoreload 2"
   ]
  },
  {
   "cell_type": "code",
   "execution_count": 2,
   "id": "051896bc",
   "metadata": {},
   "outputs": [],
   "source": [
    "# General imports\n",
    "import cv2\n",
    "import numpy as np\n",
    "from glob import glob\n",
    "import os.path\n",
    "from os import makedirs\n",
    "\n",
    "BASE_DATA_PATH = \"/Users/kobe/Documents/School/2024-2025/3D_Modeling_and_Image_Based_Rendering/project/dataset\"\n",
    "CURRENT_DATASET = BASE_DATA_PATH + \"/GrayCodes_HighRes\"\n",
    "CHESS_PATH = CURRENT_DATASET + \"/chess\"\n",
    "RAW_PATH = CURRENT_DATASET + \"/raw\"\n",
    "UNDIST_PATH = CURRENT_DATASET + \"/undistorted\"\n",
    "PATTERN_PATH = CURRENT_DATASET + \"/patterns\"\n",
    "\n",
    "if not os.path.exists(UNDIST_PATH):\n",
    "\tmakedirs(UNDIST_PATH)\n",
    "\n",
    "if not os.path.exists(PATTERN_PATH):\n",
    "\tmakedirs(PATTERN_PATH)"
   ]
  },
  {
   "cell_type": "code",
   "execution_count": 3,
   "id": "a7906008",
   "metadata": {},
   "outputs": [],
   "source": [
    "def getFilesSortedNumeric(glob_pattern: str):\n",
    "\tfiles = glob(glob_pattern)\n",
    "\treturn sorted(files, key=lambda f: int(os.path.splitext(os.path.basename(f))[0]))"
   ]
  },
  {
   "cell_type": "markdown",
   "id": "f724b66e",
   "metadata": {},
   "source": [
    "## 1 Camerakalibratie"
   ]
  },
  {
   "cell_type": "markdown",
   "id": "3c835de2",
   "metadata": {},
   "source": [
    "### Kalibreer camera"
   ]
  },
  {
   "cell_type": "code",
   "execution_count": null,
   "id": "b0b5e355",
   "metadata": {},
   "outputs": [],
   "source": [
    "from calibration import combine_extrinsic_vecs, intrinsic_calibration\n",
    "\n",
    "chess_files = glob(f\"{CHESS_PATH}/*.jpg\")\n",
    "error, intrinsic, distortion, rotation_matrices, translation_vectors, image_size = intrinsic_calibration(chess_files, (7,9))\n",
    "extrinsics = combine_extrinsic_vecs(rotation_matrices, translation_vectors)\n",
    "\n",
    "np.savez(f\"{CURRENT_DATASET}/camCalibration.npz\", intrinsic=intrinsic, distortion=distortion, extrinsics=extrinsics, img_size=image_size)"
   ]
  },
  {
   "cell_type": "markdown",
   "id": "91223047",
   "metadata": {},
   "source": [
    "### Load kalibration data"
   ]
  },
  {
   "cell_type": "code",
   "execution_count": 5,
   "id": "a25ed2cf",
   "metadata": {},
   "outputs": [],
   "source": [
    "calibration = np.load(f\"{CURRENT_DATASET}/camCalibration.npz\")\n",
    "intrinsic = calibration[\"intrinsic\"]\n",
    "distortion = calibration[\"distortion\"]\n",
    "extrinsics = calibration[\"extrinsics\"]\n",
    "width, height = calibration['img_size']"
   ]
  },
  {
   "cell_type": "markdown",
   "id": "56d77098",
   "metadata": {},
   "source": [
    "### Undistort alle afbeelding"
   ]
  },
  {
   "cell_type": "code",
   "execution_count": 3,
   "id": "16c484b6",
   "metadata": {},
   "outputs": [
    {
     "name": "stdout",
     "output_type": "stream",
     "text": [
      "Undistorting view1\n",
      "Undistorting 40.jpg\n",
      "Undistorting view0\n",
      "Undistorting 40.jpg\n"
     ]
    }
   ],
   "source": [
    "from undistort import undistortAllViews\n",
    "\n",
    "undistortAllViews(RAW_PATH, UNDIST_PATH, intrinsic, distortion)"
   ]
  },
  {
   "cell_type": "markdown",
   "id": "2e54981f",
   "metadata": {},
   "source": [
    "### Visualize poses"
   ]
  },
  {
   "cell_type": "code",
   "execution_count": null,
   "id": "77ce822a",
   "metadata": {},
   "outputs": [],
   "source": [
    "from visualizeCameraPoints import drawCameraPoints\n",
    "\n",
    "drawCameraPoints(height, width, intrinsic, extrinsics)"
   ]
  },
  {
   "cell_type": "markdown",
   "id": "9465820b",
   "metadata": {},
   "source": [
    "## 2 Structured Light"
   ]
  },
  {
   "cell_type": "markdown",
   "id": "a1007d85",
   "metadata": {},
   "source": [
    "### Genereer patronen"
   ]
  },
  {
   "cell_type": "code",
   "execution_count": null,
   "id": "678e1a19",
   "metadata": {},
   "outputs": [],
   "source": [
    "from GrayCodeEncoder import GrayCodeEncoder\n",
    "\n",
    "\n",
    "ROWS = 1080\n",
    "COLS = 1920\n",
    "DEPTH = 10\n",
    "\n",
    "encoder = GrayCodeEncoder(ROWS, COLS, DEPTH)\n",
    "for i, pattern in enumerate(encoder.patterns):\n",
    "\toutput_filename = f\"{PATTERN_PATH}/{i}.jpg\"\n",
    "\tcv2.imwrite(output_filename, pattern)\n",
    "\tprint(f\"\\rSaved {os.path.basename(output_filename)}\", end='')\n"
   ]
  },
  {
   "cell_type": "markdown",
   "id": "6c43816e",
   "metadata": {},
   "source": [
    "### Decode graycode images"
   ]
  },
  {
   "cell_type": "code",
   "execution_count": null,
   "id": "ccd9fb47",
   "metadata": {},
   "outputs": [
    {
     "name": "stdout",
     "output_type": "stream",
     "text": [
      "Decoding view1...\n",
      "Decoding 20/20\n",
      "(3168, 4752) (3168, 4752)\n",
      "Decoding view0...\n",
      "Decoding 20/20\n",
      "(3168, 4752) (3168, 4752)\n"
     ]
    }
   ],
   "source": [
    "from GrayCodeDecoder import GrayCodeDecoder\n",
    "\n",
    "THRESHOLD = 8\n",
    "for view in os.listdir(str(UNDIST_PATH)):\n",
    "\tprint(f\"Decoding {view}...\")\n",
    "\tdecoder = GrayCodeDecoder([cv2.imread(file, cv2.IMREAD_GRAYSCALE) for file in getFilesSortedNumeric(f\"{UNDIST_PATH}/{view}/[0-9][0-9].jpg\")])\n",
    "\tcodes, mask = decoder.decode(THRESHOLD)\n",
    "\tnp.savez_compressed(f\"{CURRENT_DATASET}/{view}_decoded.npz\", codes=codes, mask=mask, threshold=THRESHOLD)"
   ]
  },
  {
   "cell_type": "markdown",
   "id": "ccbfdda9",
   "metadata": {},
   "source": [
    "### Load decoded data"
   ]
  },
  {
   "cell_type": "code",
   "execution_count": 5,
   "id": "5df04af0",
   "metadata": {},
   "outputs": [],
   "source": [
    "def createViewDict(view: str):\n",
    "\tdata = np.load(f\"{CURRENT_DATASET}/{view}_decoded.npz\")\n",
    "\treturn {\n",
    "\t\t\"codes\": data[\"codes\"],\n",
    "\t\t\"mask\": data[\"mask\"],\n",
    "\t\t\"threshold\": data['threshold']\n",
    "\t}\n",
    "\n",
    "decoded_views = {\n",
    "\t f\"{view}\": createViewDict(view) for view in os.listdir(UNDIST_PATH)\n",
    "}"
   ]
  },
  {
   "cell_type": "markdown",
   "id": "43c0d887",
   "metadata": {},
   "source": [
    "### Find matches between views"
   ]
  },
  {
   "cell_type": "code",
   "execution_count": null,
   "id": "23900025",
   "metadata": {},
   "outputs": [],
   "source": [
    "from matcher import correspond\n",
    "\n",
    "kp0, kp1, dMatches, matches = correspond(decoded_views)\n",
    "np.savez_compressed(f\"{CURRENT_DATASET}/matches.npz\", matches=matches, allow_pickle=True)"
   ]
  },
  {
   "cell_type": "markdown",
   "id": "2fa83721",
   "metadata": {},
   "source": [
    "### Load matches"
   ]
  },
  {
   "cell_type": "code",
   "execution_count": 8,
   "id": "e0624b78",
   "metadata": {},
   "outputs": [],
   "source": [
    "loaded_data = np.load(f\"{CURRENT_DATASET}/matches.npz\", allow_pickle=True)\n",
    "matches = loaded_data['matches'].item()\n",
    "loaded_data.close()"
   ]
  },
  {
   "cell_type": "markdown",
   "id": "233b420c",
   "metadata": {},
   "source": [
    "### Draw Matches"
   ]
  },
  {
   "cell_type": "code",
   "execution_count": null,
   "id": "d4580efa",
   "metadata": {},
   "outputs": [
    {
     "ename": "",
     "evalue": "",
     "output_type": "error",
     "traceback": [
      "\u001b[1;31mThe Kernel crashed while executing code in the current cell or a previous cell. \n",
      "\u001b[1;31mPlease review the code in the cell(s) to identify a possible cause of the failure. \n",
      "\u001b[1;31mClick <a href='https://aka.ms/vscodeJupyterKernelCrash'>here</a> for more info. \n",
      "\u001b[1;31mView Jupyter <a href='command:jupyter.viewOutput'>log</a> for further details."
     ]
    }
   ],
   "source": [
    "from matcher import drawMatches\n",
    "\n",
    "img0 = cv2.imread(f\"{UNDIST_PATH}/view0/00.jpg\")\n",
    "img1 = cv2.imread(f\"{UNDIST_PATH}/view1/00.jpg\")\n",
    "drawMatches(matches, img0, img1)"
   ]
  },
  {
   "cell_type": "markdown",
   "id": "678509df",
   "metadata": {},
   "source": [
    "## 3 Reconstructie Puntenwolk"
   ]
  },
  {
   "cell_type": "markdown",
   "id": "0390f904",
   "metadata": {},
   "source": [
    "### Essentiele matrix berekenen"
   ]
  },
  {
   "cell_type": "code",
   "execution_count": 15,
   "id": "33b76fc4",
   "metadata": {},
   "outputs": [],
   "source": [
    "def getKeyPoints(matches):\n",
    "\tkp0 = []\n",
    "\tkp1 = []\n",
    "\tfor match in matches.values():\n",
    "\t\tkp0.append(match[0])\n",
    "\t\tkp1.append(match[1])\n",
    "\treturn np.array(kp0), np.array(kp1)"
   ]
  },
  {
   "cell_type": "code",
   "execution_count": null,
   "id": "b7f5c621",
   "metadata": {},
   "outputs": [],
   "source": [
    "from essentialMatrixGeneration import generateEssentialMatrix\n",
    "\n",
    "kp0, kp1 = getKeyPoints(matches)\n",
    "essential_matrix, mask = generateEssentialMatrix(kp0, kp1, intrinsic)"
   ]
  },
  {
   "cell_type": "markdown",
   "id": "fe6ce923",
   "metadata": {},
   "source": [
    "### Recover Pose of cameras"
   ]
  },
  {
   "cell_type": "code",
   "execution_count": 17,
   "id": "cd5f0a9e",
   "metadata": {},
   "outputs": [],
   "source": [
    "from poseRecovery import recoverPose\n",
    "\n",
    "kp0, kp1 = getKeyPoints(matches)\n",
    "rotation_cam1, translation_cam1, mask_pose = recoverPose(essential_matrix, kp0, kp1, intrinsic, mask)"
   ]
  },
  {
   "cell_type": "markdown",
   "id": "6c9cfb93",
   "metadata": {},
   "source": [
    "### Visualize poses of the cameras"
   ]
  },
  {
   "cell_type": "code",
   "execution_count": 19,
   "id": "532a3dca",
   "metadata": {},
   "outputs": [],
   "source": [
    "from calibration import combine_extrinsic_vec\n",
    "from visualizeCameraPoints import drawCameraPoints\n",
    "\n",
    "\n",
    "cam0_extrinsic = combine_extrinsic_vec(np.eye(3), np.zeros((3,1)))\n",
    "cam1_extrinsic = combine_extrinsic_vec(rotation_cam1, translation_cam1)\n",
    "drawCameraPoints(height, width, intrinsic, [cam0_extrinsic, cam1_extrinsic])"
   ]
  },
  {
   "cell_type": "markdown",
   "id": "b8dd1946",
   "metadata": {},
   "source": [
    "### Triangulate points"
   ]
  },
  {
   "cell_type": "code",
   "execution_count": 45,
   "id": "fd9b87e1",
   "metadata": {},
   "outputs": [
    {
     "name": "stdout",
     "output_type": "stream",
     "text": [
      "split projection matrices\n"
     ]
    }
   ],
   "source": [
    "from triangulation import triangulatePoints, triangulatePointsCustom\n",
    "\n",
    "kp0, kp1 = getKeyPoints(matches)\n",
    "points_4d_hom = triangulatePoints(intrinsic, rotation_cam1, translation_cam1, kp0.T, kp1.T)\n",
    "proj0 = intrinsic @ np.hstack((np.eye(3), np.zeros((3,1))))\n",
    "proj1 = intrinsic @ np.hstack((rotation_cam1, translation_cam1))\n",
    "points_4d_hom_custom = triangulatePointsCustom(proj0, proj1, kp0, kp1)"
   ]
  },
  {
   "cell_type": "markdown",
   "id": "73c69979",
   "metadata": {},
   "source": [
    "### Visualize triangulated points"
   ]
  },
  {
   "cell_type": "code",
   "execution_count": 47,
   "id": "3f59e661",
   "metadata": {},
   "outputs": [],
   "source": [
    "import open3d\n",
    "import open3d.visualization\n",
    "import open3d.cpu.pybind.utility as utility\n",
    "\n",
    "\n",
    "points3D = points_4d_hom[:3, :] / points_4d_hom[3, :]\n",
    "points3D_custom = points_4d_hom_custom[:3, :] / points_4d_hom_custom[3, :]\n",
    "\n",
    "points = utility.Vector3dVector(points3D_custom.T)\n",
    "point_cloud = open3d.geometry.PointCloud(points)\n",
    "open3d.visualization.draw_geometries([point_cloud])"
   ]
  },
  {
   "cell_type": "markdown",
   "id": "bf505de8",
   "metadata": {},
   "source": [
    "## 4 Plane-Sweep"
   ]
  },
  {
   "cell_type": "markdown",
   "id": "bda06205",
   "metadata": {},
   "source": [
    "## 5 Eigen Dataset Capteren"
   ]
  },
  {
   "cell_type": "markdown",
   "id": "95c14e1c",
   "metadata": {},
   "source": [
    "## 6 Reconstrucite Camera-Camera-Projector"
   ]
  },
  {
   "cell_type": "markdown",
   "id": "f8dee87a",
   "metadata": {},
   "source": [
    "## 7 Light Field Displays"
   ]
  }
 ],
 "metadata": {
  "kernelspec": {
   "display_name": ".venv",
   "language": "python",
   "name": "python3"
  },
  "language_info": {
   "codemirror_mode": {
    "name": "ipython",
    "version": 3
   },
   "file_extension": ".py",
   "mimetype": "text/x-python",
   "name": "python",
   "nbconvert_exporter": "python",
   "pygments_lexer": "ipython3",
   "version": "3.12.10"
  }
 },
 "nbformat": 4,
 "nbformat_minor": 5
}
